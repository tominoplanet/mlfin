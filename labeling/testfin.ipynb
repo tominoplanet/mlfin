{
 "cells": [
  {
   "cell_type": "code",
   "execution_count": 45,
   "id": "3ae639c0",
   "metadata": {
    "scrolled": false
   },
   "outputs": [
    {
     "name": "stdout",
     "output_type": "stream",
     "text": [
      "['/Users/takahashishun/mlfin/labeling',\n",
      " '/Users/takahashishun/opt/anaconda3/lib/python39.zip',\n",
      " '/Users/takahashishun/opt/anaconda3/lib/python3.9',\n",
      " '/Users/takahashishun/opt/anaconda3/lib/python3.9/lib-dynload',\n",
      " '',\n",
      " '/Users/takahashishun/opt/anaconda3/lib/python3.9/site-packages',\n",
      " '/Users/takahashishun/opt/anaconda3/lib/python3.9/site-packages/aeosa',\n",
      " '/Users/takahashishun/opt/anaconda3/lib/python3.9/site-packages/locket-0.2.1-py3.9.egg',\n",
      " '/Users/takahashishun/opt/anaconda3/lib/python3.9/site-packages/IPython/extensions',\n",
      " '/Users/takahashishun/.ipython',\n",
      " '/Users/takahashishun/mlfin',\n",
      " '/Users/takahashishun',\n",
      " '/Users/takahashishun']\n"
     ]
    }
   ],
   "source": [
    "# 参照するディレクトリのパス追加プロセス\n",
    "import sys\n",
    "import pprint\n",
    "import os\n",
    "\n",
    "pprint.pprint(sys.path)"
   ]
  },
  {
   "cell_type": "code",
   "execution_count": 46,
   "id": "c724223e",
   "metadata": {
    "scrolled": true
   },
   "outputs": [],
   "source": [
    "# mlfinがパスディレクトリに追加されているかどうかは重要\n",
    "import numpy as np\n",
    "import pandas as pd\n",
    "\n",
    "# Snippet 3.1, page 44, Daily Volatility Estimates\n",
    "from mlfin.util.multiprocess import *\n",
    "from mlfin.util.volatility import get_daily_vol\n",
    "from mlfin.labeling.labeling import *\n",
    "from mlfin.filters.filters import *\n"
   ]
  },
  {
   "cell_type": "code",
   "execution_count": 47,
   "id": "cfda6914",
   "metadata": {},
   "outputs": [],
   "source": [
    "import math\n",
    "\n",
    "import ccxt\n",
    "from crypto_data_fetcher.gmo import GmoFetcher\n",
    "import joblib\n",
    "import lightgbm as lgb\n",
    "import matplotlib.pyplot as plt\n",
    "import numba\n",
    "import numpy as np\n",
    "import pandas as pd\n",
    "from scipy.stats import ttest_1samp\n",
    "import seaborn as sns\n",
    "import datetime\n",
    "import time\n",
    "\n",
    "from sklearn.ensemble import BaggingRegressor\n",
    "from sklearn.linear_model import RidgeCV\n",
    "from sklearn.model_selection import cross_val_score, KFold, TimeSeriesSplit"
   ]
  },
  {
   "cell_type": "code",
   "execution_count": 48,
   "id": "c2fd04ba",
   "metadata": {},
   "outputs": [
    {
     "data": {
      "text/html": [
       "<div>\n",
       "<style scoped>\n",
       "    .dataframe tbody tr th:only-of-type {\n",
       "        vertical-align: middle;\n",
       "    }\n",
       "\n",
       "    .dataframe tbody tr th {\n",
       "        vertical-align: top;\n",
       "    }\n",
       "\n",
       "    .dataframe thead th {\n",
       "        text-align: right;\n",
       "    }\n",
       "</style>\n",
       "<table border=\"1\" class=\"dataframe\">\n",
       "  <thead>\n",
       "    <tr style=\"text-align: right;\">\n",
       "      <th></th>\n",
       "      <th>op</th>\n",
       "      <th>hi</th>\n",
       "      <th>lo</th>\n",
       "      <th>cl</th>\n",
       "      <th>volume</th>\n",
       "    </tr>\n",
       "    <tr>\n",
       "      <th>timestamp</th>\n",
       "      <th></th>\n",
       "      <th></th>\n",
       "      <th></th>\n",
       "      <th></th>\n",
       "      <th></th>\n",
       "    </tr>\n",
       "  </thead>\n",
       "  <tbody>\n",
       "    <tr>\n",
       "      <th>2018-09-05 08:05:00+00:00</th>\n",
       "      <td>818724.0</td>\n",
       "      <td>818724.0</td>\n",
       "      <td>818724.0</td>\n",
       "      <td>818724.0</td>\n",
       "      <td>0.01</td>\n",
       "    </tr>\n",
       "    <tr>\n",
       "      <th>2018-09-05 08:20:00+00:00</th>\n",
       "      <td>821250.0</td>\n",
       "      <td>821250.0</td>\n",
       "      <td>821250.0</td>\n",
       "      <td>821250.0</td>\n",
       "      <td>0.01</td>\n",
       "    </tr>\n",
       "    <tr>\n",
       "      <th>2018-09-05 08:45:00+00:00</th>\n",
       "      <td>819260.0</td>\n",
       "      <td>819282.0</td>\n",
       "      <td>819260.0</td>\n",
       "      <td>819282.0</td>\n",
       "      <td>0.02</td>\n",
       "    </tr>\n",
       "    <tr>\n",
       "      <th>2018-09-05 08:50:00+00:00</th>\n",
       "      <td>819765.0</td>\n",
       "      <td>819765.0</td>\n",
       "      <td>819765.0</td>\n",
       "      <td>819765.0</td>\n",
       "      <td>0.01</td>\n",
       "    </tr>\n",
       "    <tr>\n",
       "      <th>2018-09-05 09:00:00+00:00</th>\n",
       "      <td>820000.0</td>\n",
       "      <td>820000.0</td>\n",
       "      <td>819500.0</td>\n",
       "      <td>819500.0</td>\n",
       "      <td>0.02</td>\n",
       "    </tr>\n",
       "    <tr>\n",
       "      <th>...</th>\n",
       "      <td>...</td>\n",
       "      <td>...</td>\n",
       "      <td>...</td>\n",
       "      <td>...</td>\n",
       "      <td>...</td>\n",
       "    </tr>\n",
       "    <tr>\n",
       "      <th>2021-03-31 23:35:00+00:00</th>\n",
       "      <td>6520010.0</td>\n",
       "      <td>6522172.0</td>\n",
       "      <td>6514990.0</td>\n",
       "      <td>6518843.0</td>\n",
       "      <td>7.31</td>\n",
       "    </tr>\n",
       "    <tr>\n",
       "      <th>2021-03-31 23:40:00+00:00</th>\n",
       "      <td>6519427.0</td>\n",
       "      <td>6520989.0</td>\n",
       "      <td>6513263.0</td>\n",
       "      <td>6518492.0</td>\n",
       "      <td>7.35</td>\n",
       "    </tr>\n",
       "    <tr>\n",
       "      <th>2021-03-31 23:45:00+00:00</th>\n",
       "      <td>6519089.0</td>\n",
       "      <td>6528367.0</td>\n",
       "      <td>6517671.0</td>\n",
       "      <td>6524820.0</td>\n",
       "      <td>6.05</td>\n",
       "    </tr>\n",
       "    <tr>\n",
       "      <th>2021-03-31 23:50:00+00:00</th>\n",
       "      <td>6523517.0</td>\n",
       "      <td>6523517.0</td>\n",
       "      <td>6510311.0</td>\n",
       "      <td>6513741.0</td>\n",
       "      <td>9.42</td>\n",
       "    </tr>\n",
       "    <tr>\n",
       "      <th>2021-03-31 23:55:00+00:00</th>\n",
       "      <td>6515014.0</td>\n",
       "      <td>6522849.0</td>\n",
       "      <td>6505998.0</td>\n",
       "      <td>6515459.0</td>\n",
       "      <td>9.63</td>\n",
       "    </tr>\n",
       "  </tbody>\n",
       "</table>\n",
       "<p>256322 rows × 5 columns</p>\n",
       "</div>"
      ],
      "text/plain": [
       "                                  op         hi         lo         cl  volume\n",
       "timestamp                                                                    \n",
       "2018-09-05 08:05:00+00:00   818724.0   818724.0   818724.0   818724.0    0.01\n",
       "2018-09-05 08:20:00+00:00   821250.0   821250.0   821250.0   821250.0    0.01\n",
       "2018-09-05 08:45:00+00:00   819260.0   819282.0   819260.0   819282.0    0.02\n",
       "2018-09-05 08:50:00+00:00   819765.0   819765.0   819765.0   819765.0    0.01\n",
       "2018-09-05 09:00:00+00:00   820000.0   820000.0   819500.0   819500.0    0.02\n",
       "...                              ...        ...        ...        ...     ...\n",
       "2021-03-31 23:35:00+00:00  6520010.0  6522172.0  6514990.0  6518843.0    7.31\n",
       "2021-03-31 23:40:00+00:00  6519427.0  6520989.0  6513263.0  6518492.0    7.35\n",
       "2021-03-31 23:45:00+00:00  6519089.0  6528367.0  6517671.0  6524820.0    6.05\n",
       "2021-03-31 23:50:00+00:00  6523517.0  6523517.0  6510311.0  6513741.0    9.42\n",
       "2021-03-31 23:55:00+00:00  6515014.0  6522849.0  6505998.0  6515459.0    9.63\n",
       "\n",
       "[256322 rows x 5 columns]"
      ]
     },
     "execution_count": 48,
     "metadata": {},
     "output_type": "execute_result"
    }
   ],
   "source": [
    "# 同階層に保存されているエンコードテキスト\n",
    "\n",
    "df = joblib.load(\"temp.txt\")\n",
    "df"
   ]
  },
  {
   "cell_type": "code",
   "execution_count": 49,
   "id": "2b504891",
   "metadata": {
    "scrolled": false
   },
   "outputs": [
    {
     "data": {
      "text/plain": [
       "timestamp\n",
       "2018-09-06 08:50:00+00:00         NaN\n",
       "2018-09-06 09:00:00+00:00    0.003038\n",
       "2018-09-06 09:15:00+00:00    0.003205\n",
       "2018-09-06 09:20:00+00:00    0.002758\n",
       "2018-09-06 09:30:00+00:00    0.003737\n",
       "                               ...   \n",
       "2021-03-31 23:35:00+00:00    0.007515\n",
       "2021-03-31 23:40:00+00:00    0.007447\n",
       "2021-03-31 23:45:00+00:00    0.007385\n",
       "2021-03-31 23:50:00+00:00    0.007312\n",
       "2021-03-31 23:55:00+00:00    0.007239\n",
       "Name: cl, Length: 256140, dtype: float64"
      ]
     },
     "execution_count": 49,
     "metadata": {},
     "output_type": "execute_result"
    }
   ],
   "source": [
    "close = df['cl'].copy()\n",
    "vol = get_daily_vol(close)\n",
    "vol"
   ]
  },
  {
   "cell_type": "code",
   "execution_count": 50,
   "id": "983b65d9",
   "metadata": {},
   "outputs": [],
   "source": [
    "# なぜかfiltersに組み込めないが、競合とか？\n",
    "def getTEvents(gRaw:pd.Series, h):\n",
    "  \n",
    "\n",
    "    tEvents, sPos, sNeg = [], 0, 0\n",
    "    diff = gRaw.diff()\n",
    "    for i in diff.index[1:]:\n",
    "        sPos, sNeg = max(0, sPos + diff.loc[i]), min(0, sNeg + diff.loc[i])\n",
    "        if sNeg < -h:\n",
    "            sNeg = 0\n",
    "            tEvents.append(i)\n",
    "        elif sPos > h:\n",
    "            sPos = 0\n",
    "            tEvents.append(i)\n",
    "    \n",
    "    return pd.DatetimeIndex(tEvents)"
   ]
  },
  {
   "cell_type": "code",
   "execution_count": 51,
   "id": "16410d6d",
   "metadata": {},
   "outputs": [
    {
     "data": {
      "text/plain": [
       "DatetimeIndex(['2018-11-15 20:30:00+00:00', '2018-11-18 16:05:00+00:00',\n",
       "               '2018-11-21 08:50:00+00:00', '2018-11-22 19:30:00+00:00',\n",
       "               '2018-11-25 01:20:00+00:00', '2018-11-25 22:20:00+00:00',\n",
       "               '2018-11-26 19:25:00+00:00', '2019-01-09 11:25:00+00:00',\n",
       "               '2019-03-14 08:30:00+00:00', '2019-04-02 05:20:00+00:00',\n",
       "               '2019-04-02 20:40:00+00:00', '2019-04-03 05:45:00+00:00',\n",
       "               '2019-04-03 22:15:00+00:00', '2019-05-13 15:40:00+00:00',\n",
       "               '2019-05-14 06:45:00+00:00', '2019-05-26 07:35:00+00:00',\n",
       "               '2019-06-26 21:30:00+00:00', '2019-06-29 14:15:00+00:00',\n",
       "               '2019-07-16 19:05:00+00:00', '2019-07-21 12:00:00+00:00',\n",
       "               '2019-09-24 20:20:00+00:00', '2019-09-27 02:55:00+00:00',\n",
       "               '2019-10-25 17:15:00+00:00', '2019-10-26 14:30:00+00:00',\n",
       "               '2019-10-27 21:00:00+00:00', '2020-03-12 11:05:00+00:00',\n",
       "               '2020-03-13 11:50:00+00:00', '2020-03-13 19:00:00+00:00',\n",
       "               '2020-03-14 00:10:00+00:00', '2020-03-14 05:45:00+00:00',\n",
       "               '2020-03-14 15:30:00+00:00', '2020-03-15 18:10:00+00:00',\n",
       "               '2020-03-16 10:55:00+00:00', '2020-03-17 23:25:00+00:00',\n",
       "               '2020-03-19 17:50:00+00:00', '2020-03-20 18:20:00+00:00',\n",
       "               '2020-03-21 07:20:00+00:00', '2020-03-27 17:55:00+00:00',\n",
       "               '2020-04-30 17:50:00+00:00', '2020-05-07 07:40:00+00:00',\n",
       "               '2020-05-11 02:10:00+00:00', '2020-05-13 19:10:00+00:00',\n",
       "               '2021-01-03 17:30:00+00:00', '2021-01-12 06:25:00+00:00',\n",
       "               '2021-01-13 12:10:00+00:00', '2021-01-29 09:55:00+00:00',\n",
       "               '2021-01-31 13:40:00+00:00', '2021-02-08 14:20:00+00:00',\n",
       "               '2021-02-10 22:40:00+00:00', '2021-02-24 08:30:00+00:00',\n",
       "               '2021-02-25 21:25:00+00:00'],\n",
       "              dtype='datetime64[ns, UTC]', freq=None)"
      ]
     },
     "execution_count": 51,
     "metadata": {},
     "output_type": "execute_result"
    }
   ],
   "source": [
    "tEvents = getTEvents(vol, 0.05)\n",
    "tEvents"
   ]
  },
  {
   "cell_type": "code",
   "execution_count": null,
   "id": "aa50f129",
   "metadata": {},
   "outputs": [],
   "source": [
    "apply_pt_sl_on_t1"
   ]
  }
 ],
 "metadata": {
  "kernelspec": {
   "display_name": "Python 3 (ipykernel)",
   "language": "python",
   "name": "python3"
  },
  "language_info": {
   "codemirror_mode": {
    "name": "ipython",
    "version": 3
   },
   "file_extension": ".py",
   "mimetype": "text/x-python",
   "name": "python",
   "nbconvert_exporter": "python",
   "pygments_lexer": "ipython3",
   "version": "3.9.7"
  }
 },
 "nbformat": 4,
 "nbformat_minor": 5
}

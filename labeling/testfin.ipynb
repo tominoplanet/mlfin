{
 "cells": [
  {
   "cell_type": "code",
   "execution_count": 18,
   "id": "3ae639c0",
   "metadata": {
    "scrolled": false
   },
   "outputs": [
    {
     "name": "stdout",
     "output_type": "stream",
     "text": [
      "['/Users/tominoplanet/mlfin/labeling',\n",
      " '/Users/tominoplanet/opt/anaconda3/lib/python39.zip',\n",
      " '/Users/tominoplanet/opt/anaconda3/lib/python3.9',\n",
      " '/Users/tominoplanet/opt/anaconda3/lib/python3.9/lib-dynload',\n",
      " '',\n",
      " '/Users/tominoplanet/opt/anaconda3/lib/python3.9/site-packages',\n",
      " '/Users/tominoplanet/opt/anaconda3/lib/python3.9/site-packages/aeosa',\n",
      " '/Users/tominoplanet/mlfin',\n",
      " '/Users/tominoplanet',\n",
      " '/Users/tominoplanet']\n"
     ]
    }
   ],
   "source": [
    "# 参照するディレクトリのパス追加プロセス\n",
    "import sys\n",
    "import pprint\n",
    "import os\n",
    "\n",
    "\n",
    "pprint.pprint(sys.path)"
   ]
  },
  {
   "cell_type": "code",
   "execution_count": 30,
   "id": "c724223e",
   "metadata": {
    "scrolled": true
   },
   "outputs": [],
   "source": [
    "# mlfinがパスディレクトリに追加されているかどうかは重要\n",
    "import numpy as np\n",
    "import pandas as pd\n",
    "\n",
    "# Snippet 3.1, page 44, Daily Volatility Estimates\n",
    "from mlfin.util.multiprocess import *\n",
    "from mlfin.util.volatility import get_daily_vol\n",
    "from mlfin.labeling.labeling import *"
   ]
  },
  {
   "cell_type": "code",
   "execution_count": 21,
   "id": "cfda6914",
   "metadata": {},
   "outputs": [],
   "source": [
    "import math\n",
    "\n",
    "import ccxt\n",
    "from crypto_data_fetcher.gmo import GmoFetcher\n",
    "import joblib\n",
    "import lightgbm as lgb\n",
    "import matplotlib.pyplot as plt\n",
    "import numba\n",
    "import numpy as np\n",
    "import pandas as pd\n",
    "from scipy.stats import ttest_1samp\n",
    "import seaborn as sns\n",
    "import datetime\n",
    "import time\n",
    "\n",
    "from sklearn.ensemble import BaggingRegressor\n",
    "from sklearn.linear_model import RidgeCV\n",
    "from sklearn.model_selection import cross_val_score, KFold, TimeSeriesSplit"
   ]
  },
  {
   "cell_type": "code",
   "execution_count": 16,
   "id": "f4959aab",
   "metadata": {},
   "outputs": [
    {
     "data": {
      "text/html": [
       "<div>\n",
       "<style scoped>\n",
       "    .dataframe tbody tr th:only-of-type {\n",
       "        vertical-align: middle;\n",
       "    }\n",
       "\n",
       "    .dataframe tbody tr th {\n",
       "        vertical-align: top;\n",
       "    }\n",
       "\n",
       "    .dataframe thead th {\n",
       "        text-align: right;\n",
       "    }\n",
       "</style>\n",
       "<table border=\"1\" class=\"dataframe\">\n",
       "  <thead>\n",
       "    <tr style=\"text-align: right;\">\n",
       "      <th></th>\n",
       "      <th>op</th>\n",
       "      <th>hi</th>\n",
       "      <th>lo</th>\n",
       "      <th>cl</th>\n",
       "      <th>volume</th>\n",
       "    </tr>\n",
       "    <tr>\n",
       "      <th>timestamp</th>\n",
       "      <th></th>\n",
       "      <th></th>\n",
       "      <th></th>\n",
       "      <th></th>\n",
       "      <th></th>\n",
       "    </tr>\n",
       "  </thead>\n",
       "  <tbody>\n",
       "    <tr>\n",
       "      <th>2018-09-05 08:05:00+00:00</th>\n",
       "      <td>818724.0</td>\n",
       "      <td>818724.0</td>\n",
       "      <td>818724.0</td>\n",
       "      <td>818724.0</td>\n",
       "      <td>0.01</td>\n",
       "    </tr>\n",
       "    <tr>\n",
       "      <th>2018-09-05 08:20:00+00:00</th>\n",
       "      <td>821250.0</td>\n",
       "      <td>821250.0</td>\n",
       "      <td>821250.0</td>\n",
       "      <td>821250.0</td>\n",
       "      <td>0.01</td>\n",
       "    </tr>\n",
       "    <tr>\n",
       "      <th>2018-09-05 08:45:00+00:00</th>\n",
       "      <td>819260.0</td>\n",
       "      <td>819282.0</td>\n",
       "      <td>819260.0</td>\n",
       "      <td>819282.0</td>\n",
       "      <td>0.02</td>\n",
       "    </tr>\n",
       "    <tr>\n",
       "      <th>2018-09-05 08:50:00+00:00</th>\n",
       "      <td>819765.0</td>\n",
       "      <td>819765.0</td>\n",
       "      <td>819765.0</td>\n",
       "      <td>819765.0</td>\n",
       "      <td>0.01</td>\n",
       "    </tr>\n",
       "    <tr>\n",
       "      <th>2018-09-05 09:00:00+00:00</th>\n",
       "      <td>820000.0</td>\n",
       "      <td>820000.0</td>\n",
       "      <td>819500.0</td>\n",
       "      <td>819500.0</td>\n",
       "      <td>0.02</td>\n",
       "    </tr>\n",
       "    <tr>\n",
       "      <th>...</th>\n",
       "      <td>...</td>\n",
       "      <td>...</td>\n",
       "      <td>...</td>\n",
       "      <td>...</td>\n",
       "      <td>...</td>\n",
       "    </tr>\n",
       "    <tr>\n",
       "      <th>2021-03-31 23:35:00+00:00</th>\n",
       "      <td>6520010.0</td>\n",
       "      <td>6522172.0</td>\n",
       "      <td>6514990.0</td>\n",
       "      <td>6518843.0</td>\n",
       "      <td>7.31</td>\n",
       "    </tr>\n",
       "    <tr>\n",
       "      <th>2021-03-31 23:40:00+00:00</th>\n",
       "      <td>6519427.0</td>\n",
       "      <td>6520989.0</td>\n",
       "      <td>6513263.0</td>\n",
       "      <td>6518492.0</td>\n",
       "      <td>7.35</td>\n",
       "    </tr>\n",
       "    <tr>\n",
       "      <th>2021-03-31 23:45:00+00:00</th>\n",
       "      <td>6519089.0</td>\n",
       "      <td>6528367.0</td>\n",
       "      <td>6517671.0</td>\n",
       "      <td>6524820.0</td>\n",
       "      <td>6.05</td>\n",
       "    </tr>\n",
       "    <tr>\n",
       "      <th>2021-03-31 23:50:00+00:00</th>\n",
       "      <td>6523517.0</td>\n",
       "      <td>6523517.0</td>\n",
       "      <td>6510311.0</td>\n",
       "      <td>6513741.0</td>\n",
       "      <td>9.42</td>\n",
       "    </tr>\n",
       "    <tr>\n",
       "      <th>2021-03-31 23:55:00+00:00</th>\n",
       "      <td>6515014.0</td>\n",
       "      <td>6522849.0</td>\n",
       "      <td>6505998.0</td>\n",
       "      <td>6515459.0</td>\n",
       "      <td>9.63</td>\n",
       "    </tr>\n",
       "  </tbody>\n",
       "</table>\n",
       "<p>256322 rows × 5 columns</p>\n",
       "</div>"
      ],
      "text/plain": [
       "                                  op         hi         lo         cl  volume\n",
       "timestamp                                                                    \n",
       "2018-09-05 08:05:00+00:00   818724.0   818724.0   818724.0   818724.0    0.01\n",
       "2018-09-05 08:20:00+00:00   821250.0   821250.0   821250.0   821250.0    0.01\n",
       "2018-09-05 08:45:00+00:00   819260.0   819282.0   819260.0   819282.0    0.02\n",
       "2018-09-05 08:50:00+00:00   819765.0   819765.0   819765.0   819765.0    0.01\n",
       "2018-09-05 09:00:00+00:00   820000.0   820000.0   819500.0   819500.0    0.02\n",
       "...                              ...        ...        ...        ...     ...\n",
       "2021-03-31 23:35:00+00:00  6520010.0  6522172.0  6514990.0  6518843.0    7.31\n",
       "2021-03-31 23:40:00+00:00  6519427.0  6520989.0  6513263.0  6518492.0    7.35\n",
       "2021-03-31 23:45:00+00:00  6519089.0  6528367.0  6517671.0  6524820.0    6.05\n",
       "2021-03-31 23:50:00+00:00  6523517.0  6523517.0  6510311.0  6513741.0    9.42\n",
       "2021-03-31 23:55:00+00:00  6515014.0  6522849.0  6505998.0  6515459.0    9.63\n",
       "\n",
       "[256322 rows x 5 columns]"
      ]
     },
     "metadata": {},
     "output_type": "display_data"
    }
   ],
   "source": [
    "memory = joblib.Memory('/tmp/gmo_fetcher_cache', verbose=0)\n",
    "fetcher = GmoFetcher(memory=memory)\n",
    "\n",
    "# GMOコインのBTC/JPYレバレッジ取引 ( https://api.coin.z.com/data/trades/BTC_JPY/ )を取得\n",
    "# 初回ダウンロードは時間がかかる\n",
    "df = fetcher.fetch_ohlcv(\n",
    "    market='BTC_JPY', # 市場のシンボルを指定\n",
    "    interval_sec=5 * 60, # 足の間隔を秒単位で指定。この場合は15分足\n",
    ")\n",
    "\n",
    "# 実験に使うデータ期間を限定する\n",
    "df = df[df.index < pd.to_datetime('2021-04-01 00:00:00Z')]\n",
    "\n",
    "display(df)\n",
    "df.to_pickle('df_ohlcv.pkl')"
   ]
  },
  {
   "cell_type": "code",
   "execution_count": 31,
   "id": "2b504891",
   "metadata": {
    "scrolled": false
   },
   "outputs": [
    {
     "data": {
      "text/plain": [
       "timestamp\n",
       "2018-09-06 08:50:00+00:00         NaN\n",
       "2018-09-06 09:00:00+00:00    0.003038\n",
       "2018-09-06 09:15:00+00:00    0.003205\n",
       "2018-09-06 09:20:00+00:00    0.002758\n",
       "2018-09-06 09:30:00+00:00    0.003737\n",
       "                               ...   \n",
       "2021-03-31 23:35:00+00:00    0.007515\n",
       "2021-03-31 23:40:00+00:00    0.007447\n",
       "2021-03-31 23:45:00+00:00    0.007385\n",
       "2021-03-31 23:50:00+00:00    0.007312\n",
       "2021-03-31 23:55:00+00:00    0.007239\n",
       "Name: cl, Length: 256140, dtype: float64"
      ]
     },
     "execution_count": 31,
     "metadata": {},
     "output_type": "execute_result"
    }
   ],
   "source": [
    "close = df['cl'].copy()\n",
    "vol = get_daily_vol(close)\n",
    "vol"
   ]
  },
  {
   "cell_type": "code",
   "execution_count": null,
   "id": "16410d6d",
   "metadata": {},
   "outputs": [],
   "source": [
    "tEvents = getTEvents(vol, 0.0005)\n",
    "tEvents"
   ]
  }
 ],
 "metadata": {
  "kernelspec": {
   "display_name": "Python 3 (ipykernel)",
   "language": "python",
   "name": "python3"
  },
  "language_info": {
   "codemirror_mode": {
    "name": "ipython",
    "version": 3
   },
   "file_extension": ".py",
   "mimetype": "text/x-python",
   "name": "python",
   "nbconvert_exporter": "python",
   "pygments_lexer": "ipython3",
   "version": "3.9.12"
  }
 },
 "nbformat": 4,
 "nbformat_minor": 5
}
